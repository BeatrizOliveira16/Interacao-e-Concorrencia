{
 "cells": [
  {
   "cell_type": "markdown",
   "id": "advance-helmet",
   "metadata": {},
   "source": [
    "##### Concurrency 2021/2022 - Computer Science\n",
    "# Lecture 2 - Deutsch Algorithm\n",
    "\n",
    "1. [Review](#review)\n",
    "2. [Quantum parallelism](#superposition)\n",
    "3. [Deutsch's Algorithm](#Deutsch)\n",
    "3. [Deutsch-Jozsa Algorithm](#Deutsch-jozsa)"
   ]
  },
  {
   "cell_type": "markdown",
   "id": "f7d2b4f2",
   "metadata": {},
   "source": [
    "## 1. Review <a id=\"review\"></a>\n",
    "\n",
    "States \n",
    "\n",
    "$$\n",
    "|0\\rangle = \n",
    " \\begin{pmatrix}\n",
    "1 \\\\\n",
    "0\n",
    "\\end{pmatrix};\n",
    "\\;\\;\n",
    "|1\\rangle = \n",
    "\\begin{pmatrix}\n",
    "0 \\\\\n",
    "1\n",
    "\\end{pmatrix};\n",
    "$$\n",
    "\n",
    "form the computational basis and a single qubit quantum state is generally described as $|\\psi\\rangle$ that can be written as a complex superposition of these basis states as:\n",
    "\n",
    "$$|\\psi\\rangle = \\alpha|0\\rangle + \\beta |1\\rangle = \\begin{pmatrix}\n",
    "\\alpha \\\\\n",
    "\\beta\n",
    "\\end{pmatrix}$$\n",
    "\n",
    "Here, $\\alpha$ and $\\beta$ are amplitudes that can be complex in nature. When the qubit is measured, the quantum system \"collapses\" to a classical state $|0\\rangle$ with probability $|\\alpha|^2$, or to the state $|1\\rangle$ with probability $|\\beta|^2$ ----> **Born Rule**\n",
    "\n",
    "s.t $|\\alpha|^2 + |\\beta|^2 = 1$\n",
    "\n",
    "Being the uniform superposition state, the most well-known superposition state\n",
    "\n",
    "$$ \n",
    "|\\psi\\rangle = \\frac{1}{\\sqrt{2}} \\left( |0\\rangle + |1\\rangle \\right)\n",
    "$$\n"
   ]
  },
  {
   "cell_type": "code",
   "execution_count": 3,
   "id": "6869ae59",
   "metadata": {},
   "outputs": [],
   "source": [
    "from qiskit import QuantumCircuit, ClassicalRegister, QuantumRegister, Aer, execute\n",
    "from qiskit.tools.visualization import plot_histogram, visualize_transition\n",
    "import matplotlib.pyplot as plt\n",
    "import numpy as np"
   ]
  },
  {
   "cell_type": "markdown",
   "id": "2566b11a",
   "metadata": {},
   "source": [
    "#### Function for executing circuits"
   ]
  },
  {
   "cell_type": "code",
   "execution_count": 4,
   "id": "5863ccdb",
   "metadata": {},
   "outputs": [],
   "source": [
    "def execute_circuit(qc,shots=1024, decimal = False):\n",
    "    #define backend\n",
    "    device = Aer.get_backend('qasm_simulator')\n",
    "    #get counts\n",
    "    counts = device.run(qc,shots=shots).result().get_counts()\n",
    "\n",
    "    if decimal:\n",
    "        counts = dict((int(a[::-1],2),b) for (a,b) in counts.items())\n",
    "    else:\n",
    "        counts = dict((a[::-1],b) for (a,b) in counts.items())\n",
    "    return counts"
   ]
  },
  {
   "cell_type": "markdown",
   "id": "37d06b76",
   "metadata": {},
   "source": [
    "##### <span style=\"color: red;\">EXERCISE 1:</span> - Create the uniform superposition state"
   ]
  },
  {
   "cell_type": "code",
   "execution_count": 5,
   "id": "1d3e15ab",
   "metadata": {},
   "outputs": [],
   "source": [
    "def uniform_superposition(n_qubits=1):\n",
    "\n",
    "    #create circuit\n",
    "    q1 = QuantumRegister(n_qubits)\n",
    "    qc = QuantumCircuit(q1)\n",
    "    #evolve state into a superposition\n",
    "    qc.h(q1)\n",
    "    #measure the state\n",
    "    qc.measure_all()\n",
    "    return qc"
   ]
  },
  {
   "cell_type": "code",
   "execution_count": 6,
   "id": "38328c2a",
   "metadata": {},
   "outputs": [
    {
     "data": {
      "image/png": "[encoded data removed]",
      "text/plain": [
       "<Figure size 297.479x144.48 with 1 Axes>"
      ]
     },
     "execution_count": 6,
     "metadata": {},
     "output_type": "execute_result"
    }
   ],
   "source": [
    "qc = uniform_superposition(n_qubits=1)\n",
    "qc.draw(output=\"mpl\")"
   ]
  },
  {
   "cell_type": "code",
   "execution_count": 7,
   "id": "1fe54b7e",
   "metadata": {},
   "outputs": [
    {
     "data": {
      "image/png": "[encoded data removed]",
      "text/plain": [
       "<Figure size 504x360 with 1 Axes>"
      ]
     },
     "execution_count": 7,
     "metadata": {},
     "output_type": "execute_result"
    }
   ],
   "source": [
    "n_qubits = 1\n",
    "qc = uniform_superposition(n_qubits=n_qubits)\n",
    "\n",
    "#This is how we execute the quantum circuit in qiskit \n",
    "qasm_backed = Aer.get_backend(\"qasm_simulator\")\n",
    "result = execute(qc, qasm_backed, shots=1024).result()\n",
    "\n",
    "counts = result.get_counts()\n",
    "\n",
    "plot_histogram(counts)"
   ]
  },
  {
   "cell_type": "markdown",
   "id": "e5535e5b",
   "metadata": {},
   "source": [
    "#### Single-qubit gates \n",
    "\n",
    "(Let qr being the quantum register and qc being the quantum circuit.)\n",
    "\n",
    "\n",
    "|Gate Name|qiskit Syntax |Matrix|        \n",
    "|-|-|-|\n",
    "|Identity |qc.id(qr)|  $Id = \\begin{bmatrix} 1&0\\\\0&1 \\end{bmatrix}$|\n",
    "|Bit-flip or Pauli-X| qc.x(qr)| $ X = \\begin{bmatrix} 0&1\\\\1&0 \\end{bmatrix}$|\n",
    "|Bit and phase-flip or Pauli-Y| qc.y(qr)|$ Y = \\begin{bmatrix} 0&-i\\\\i&0 \\end{bmatrix}$|\n",
    "|Phase-flip or Pauli-Z| qc.z(qr)| $Z = \\begin{bmatrix} 1&0\\\\0&-1 \\end{bmatrix}$|\n",
    "|Hadamard|qc.h(qr)| $ H =\\frac{1}{\\sqrt{2}}\\begin{bmatrix} 1 & 1 \\\\ 1 & -1\\end{bmatrix}$|\n",
    "|S or $\\sqrt{Z}$-Phase|qc.s(qr)|$ S =\\begin{bmatrix} 1 & 0 \\\\ 0 & i\\end{bmatrix}$|\n",
    "|$S^\\dagger$ or conjugate $\\sqrt{Z}$-Phase|qc.sdg(qr)| $S^\\dagger =\\begin{bmatrix} 1 & 0 \\\\ 0 & -i\\end{bmatrix}$|\n",
    "|T or $\\sqrt{S}$-Phase|qc.t(qr)| $T=\\begin{bmatrix}1 & 0 \\\\ 0 & e^{i \\pi /\\ 4}\\end{bmatrix}$|\n",
    "|$T^\\dagger$ or conjugate $\\sqrt{S}$-Phase|qc.tdg(qr)| $ T^\\dagger =\\begin{bmatrix}1 & 0 \\\\ 0 & e^{-i \\pi /\\ 4}\\end{bmatrix}$|\n",
    "|$R_y$ rotation gate |qc.ry(qr)| $ R_y(\\theta) = \\begin{bmatrix} cos(\\frac{\\theta}{2}) & -sin(\\frac{\\theta}{2}) \\\\ sin(\\frac{\\theta}{2}) & cos(\\frac{\\theta}{2})\\end{bmatrix}$|\n"
   ]
  },
  {
   "cell_type": "markdown",
   "id": "4fc45aa8",
   "metadata": {},
   "source": [
    "### Multi-qubit states \n",
    "\n",
    "\n",
    "Consider two qubits of a quantum circuit, $q_a$ and $q_b$. Their joint-state description is written by the bra-ket notation:\n",
    "\n",
    "&nbsp;\n",
    "\n",
    "$$|q_a q_b\\rangle = |q_a\\rangle \\otimes |q_b\\rangle = \n",
    "\\begin{pmatrix}\n",
    "q_{a1} \\\\ \n",
    "q_{a2}\n",
    "\\end{pmatrix} \\otimes\n",
    "\\begin{pmatrix}\n",
    "q_{b1} \\\\ \n",
    "q_{b2}\n",
    "\\end{pmatrix} =\n",
    "\\begin{pmatrix}\n",
    "q_{a1}.q_{b1} \\\\\n",
    "q_{a1}.q_{b2} \\\\\n",
    "q_{a2}.q_{b1} \\\\\n",
    "q_{a2}.q_{b2}\n",
    "\\end{pmatrix}\n",
    "$$\n",
    "\n",
    "&nbsp;\n",
    "\n",
    "Using the tensor product, we can determine the vector of an $n$-qubit basis state. For example:\n",
    "\n",
    "&nbsp;\n",
    "\n",
    "$$|00\\rangle = |0\\rangle \\otimes |0\\rangle = \n",
    "\\begin{pmatrix}\n",
    "1 \\\\ \n",
    "0\n",
    "\\end{pmatrix} \\otimes\n",
    "\\begin{pmatrix}\n",
    "1 \\\\ \n",
    "0\n",
    "\\end{pmatrix} = \n",
    "\\begin{pmatrix}\n",
    "1 \\\\ \n",
    "0 \\\\\n",
    "0 \\\\\n",
    "0\n",
    "\\end{pmatrix}; \n",
    "\n",
    "|01\\rangle = |0\\rangle \\otimes |1\\rangle = \n",
    "\\begin{pmatrix}\n",
    "1 \\\\ \n",
    "0\n",
    "\\end{pmatrix} \\otimes\n",
    "\\begin{pmatrix}\n",
    "0 \\\\ \n",
    "1\n",
    "\\end{pmatrix} = \n",
    "\\begin{pmatrix}\n",
    "0 \\\\ \n",
    "1 \\\\\n",
    "0 \\\\\n",
    "0\n",
    "\\end{pmatrix}\n",
    "$$\n",
    "\n",
    "$$|10\\rangle = |1\\rangle \\otimes |0\\rangle = \n",
    "\\begin{pmatrix}\n",
    "0 \\\\ \n",
    "1\n",
    "\\end{pmatrix} \\otimes\n",
    "\\begin{pmatrix}\n",
    "1 \\\\ \n",
    "0\n",
    "\\end{pmatrix} = \n",
    "\\begin{pmatrix}\n",
    "0 \\\\ \n",
    "0 \\\\\n",
    "1 \\\\\n",
    "0\n",
    "\\end{pmatrix}; \n",
    "\n",
    "|11\\rangle = |1\\rangle \\otimes |1\\rangle = \n",
    "\\begin{pmatrix}\n",
    "0 \\\\ \n",
    "1\n",
    "\\end{pmatrix} \\otimes\n",
    "\\begin{pmatrix}\n",
    "0 \\\\ \n",
    "1\n",
    "\\end{pmatrix} = \n",
    "\\begin{pmatrix}\n",
    "0 \\\\ \n",
    "0 \\\\\n",
    "0 \\\\\n",
    "1\n",
    "\\end{pmatrix}\n",
    "$$\n",
    "\n",
    "</div>\n"
   ]
  },
  {
   "cell_type": "markdown",
   "id": "dd7a42c9",
   "metadata": {},
   "source": [
    "### CNOT gate \n",
    "\n",
    "The controlled-NOT (or controlled-$X$ or CNOT) gate's action on basis states is to flip, i.e. apply an $X$ gate to the target qubit (denoted as $\\oplus$ in quantum circuits) if the control qubit is $|1\\rangle$; otherwise the target qubit goes unchanged.\n",
    "\n",
    "The matrix describing a CNOT depends on which qubit acts as control. For a state $|q_1 q_0\\rangle$, if we apply a CNOT operation with $q_1$ as control, the matrix is described as:\n",
    "\n",
    "$$\n",
    "C_X = \n",
    "\\begin{pmatrix}\n",
    "1 & 0 & 0 & 0\\\\\n",
    "0 & 1 & 0 & 0\\\\\n",
    "0 & 0 & 0 & 1\\\\\n",
    "0 & 0 & 1 & 0\n",
    "\\end{pmatrix}\n",
    "$$"
   ]
  },
  {
   "cell_type": "code",
   "execution_count": 8,
   "id": "a168ae4d",
   "metadata": {},
   "outputs": [
    {
     "data": {
      "image/png": "[encoded data removed]",
      "text/plain": [
       "<Figure size 417.879x204.68 with 1 Axes>"
      ]
     },
     "execution_count": 8,
     "metadata": {},
     "output_type": "execute_result"
    }
   ],
   "source": [
    "qc = QuantumCircuit(2)\n",
    "qc.x(0)\n",
    "qc.cx(0,1)\n",
    "qc.measure_all()\n",
    "qc.draw(output=\"mpl\")"
   ]
  },
  {
   "cell_type": "code",
   "execution_count": 9,
   "id": "cc33a615",
   "metadata": {},
   "outputs": [
    {
     "data": {
      "image/png": "[encoded data removed]",
      "text/plain": [
       "<Figure size 504x360 with 1 Axes>"
      ]
     },
     "execution_count": 9,
     "metadata": {},
     "output_type": "execute_result"
    }
   ],
   "source": [
    "qasm_backed = Aer.get_backend(\"qasm_simulator\")\n",
    "result = execute(qc, qasm_backed, shots=5000).result()\n",
    "\n",
    "counts = result.get_counts()\n",
    "\n",
    "plot_histogram(counts)"
   ]
  },
  {
   "cell_type": "markdown",
   "id": "65a9226f",
   "metadata": {},
   "source": [
    "### Toffoli gate \n",
    "\n",
    "The Toffoli gate performs an AND operation in classical computing. \n",
    "\n",
    "$$\n",
    "CC_X = \n",
    "\\begin{pmatrix}\n",
    "1 & 0 & 0 & 0 & 0 & 0 & 0 & 0 \\\\\n",
    "0 & 1 & 0 & 0 & 0 & 0 & 0 & 0 \\\\\n",
    "0 & 0 & 1 & 0 & 0 & 0 & 0 & 0 \\\\\n",
    "0 & 0 & 0 & 1 & 0 & 0 & 0 & 0 \\\\\n",
    "0 & 0 & 0 & 0 & 1 & 0 & 0 & 0 \\\\\n",
    "0 & 0 & 0 & 0 & 0 & 1 & 0 & 0 \\\\\n",
    "0 & 0 & 0 & 0 & 0 & 0 & 0 & 1 \\\\\n",
    "0 & 0 & 0 & 0 & 0 & 0 & 1 & 0 \\\\\n",
    "\\end{pmatrix} \n",
    "$$"
   ]
  },
  {
   "cell_type": "code",
   "execution_count": 10,
   "id": "68ca30ae",
   "metadata": {},
   "outputs": [
    {
     "data": {
      "image/png": "[encoded data removed]",
      "text/plain": [
       "<Figure size 146.797x204.68 with 1 Axes>"
      ]
     },
     "execution_count": 10,
     "metadata": {},
     "output_type": "execute_result"
    }
   ],
   "source": [
    "qc = QuantumCircuit(3)\n",
    "qc.ccx(0,1,2)\n",
    "qc.draw(output=\"mpl\")"
   ]
  },
  {
   "cell_type": "code",
   "execution_count": 11,
   "id": "859c1695",
   "metadata": {},
   "outputs": [
    {
     "data": {
      "image/png": "[encoded data removed]",
      "text/plain": [
       "<Figure size 748.797x204.68 with 1 Axes>"
      ]
     },
     "execution_count": 11,
     "metadata": {},
     "output_type": "execute_result"
    }
   ],
   "source": [
    "qc.decompose().draw(output=\"mpl\")"
   ]
  },
  {
   "cell_type": "markdown",
   "id": "3d058b1c",
   "metadata": {},
   "source": [
    "Let control be the the 0 qubit and the target the 1 qubit.\n",
    "\n",
    "|Gate Name|qiskit Syntax |        \n",
    "|-|-|\n",
    "|Controlled-X or controlled-Not|qc.cx(qr\\[control\\],qr\\[target\\])|\n",
    "|Controlled-Y|qc.cy(qr\\[control\\],qr\\[target\\])|\n",
    "|Controlled-Z or controlled-Phase|qc.cz(qr\\[control\\],qr\\[target\\])|\n",
    "|Controlled-Hadamard|qc.ch(qr\\[control\\],qr\\[target\\])|\n",
    "|SWAP|qc.swap(qr\\[control\\],qr\\[target\\])|"
   ]
  },
  {
   "cell_type": "markdown",
   "id": "352606de",
   "metadata": {},
   "source": [
    "##### <span style=\"color: red;\">EXERCISE 2:</span> - Create a circuit that applies a Toffoli gate to a quantum state, prepared from a bitstring"
   ]
  },
  {
   "cell_type": "code",
   "execution_count": 12,
   "id": "0d5363f9",
   "metadata": {},
   "outputs": [
    {
     "data": {
      "image/png": "[encoded data removed]",
      "text/plain": [
       "<Figure size 504x360 with 1 Axes>"
      ]
     },
     "execution_count": 12,
     "metadata": {},
     "output_type": "execute_result"
    }
   ],
   "source": [
    "qc = QuantumCircuit(2)\n",
    "qc.x(0)\n",
    "qc.swap(0,1)\n",
    "qc.measure_all()\n",
    "\n",
    "qasm_backed = Aer.get_backend(\"qasm_simulator\")\n",
    "result = execute(qc, qasm_backed, shots=5000).result()\n",
    "\n",
    "counts = result.get_counts()\n",
    "\n",
    "plot_histogram(counts)"
   ]
  },
  {
   "cell_type": "code",
   "execution_count": 13,
   "id": "f3bca6fc",
   "metadata": {},
   "outputs": [],
   "source": [
    "def toffoli_circuit(bitstring=None, ctrl1=0, ctrl2=1, target=2, n_qubits=3):\n",
    "\n",
    "    qc = QuantumCircuit(n_qubits)\n",
    "\n",
    "    for i in range(n_qubits):\n",
    "        if int(bitstring[i]):\n",
    "            qc.x(i)\n",
    "    qc.h(0)    \n",
    "    qc.ccx(0,1,2)\n",
    "    qc.measure_all()\n",
    "    return qc"
   ]
  },
  {
   "cell_type": "code",
   "execution_count": 14,
   "id": "3895acbe",
   "metadata": {},
   "outputs": [
    {
     "data": {
      "image/png": "[encoded data removed]",
      "text/plain": [
       "<Figure size 478.079x264.88 with 1 Axes>"
      ]
     },
     "execution_count": 14,
     "metadata": {},
     "output_type": "execute_result"
    }
   ],
   "source": [
    "bitstring = \"000\"\n",
    "qc = toffoli_circuit(bitstring=bitstring, n_qubits=3)\n",
    "qc.draw(output=\"mpl\")"
   ]
  },
  {
   "cell_type": "markdown",
   "id": "c87c3a6b",
   "metadata": {},
   "source": [
    "##### <span style=\"color: red;\">Question:</span> - What will be the resulting quantum state of the Toffoli?\n",
    "\n",
    "$(H \\otimes I \\otimes I) \\ |000\\rangle = \\frac{1}{\\sqrt{2}} \\ ( \\ |0\\rangle + \\ |1\\rangle) \\ |00\\rangle = \\frac{1}{\\sqrt{2}} \\ ( \\ |000\\rangle  \\ + \\ |100\\rangle) $"
   ]
  },
  {
   "cell_type": "markdown",
   "id": "113db7b1",
   "metadata": {},
   "source": [
    "##### <span style=\"color: red;\">Question:</span> - What if we have the Hadamard applied to the first two qubits?"
   ]
  },
  {
   "cell_type": "code",
   "execution_count": 15,
   "id": "9854ffb0",
   "metadata": {},
   "outputs": [],
   "source": [
    "qc = QuantumCircuit(3)\n",
    "qc.h(0)\n",
    "qc.h(1)\n",
    "qc.ccx(0,1,2)\n",
    "qc.measure_all()"
   ]
  },
  {
   "cell_type": "code",
   "execution_count": 16,
   "id": "fe8b8029",
   "metadata": {},
   "outputs": [
    {
     "data": {
      "image/png": "[encoded data removed]",
      "text/plain": [
       "<Figure size 478.079x264.88 with 1 Axes>"
      ]
     },
     "execution_count": 16,
     "metadata": {},
     "output_type": "execute_result"
    }
   ],
   "source": [
    "qc.draw(output=\"mpl\")"
   ]
  },
  {
   "cell_type": "code",
   "execution_count": 17,
   "id": "6f381678",
   "metadata": {},
   "outputs": [
    {
     "data": {
      "image/png": "[encoded data removed]",
      "text/plain": [
       "<Figure size 504x360 with 1 Axes>"
      ]
     },
     "execution_count": 17,
     "metadata": {},
     "output_type": "execute_result"
    }
   ],
   "source": [
    "qasm_backed = Aer.get_backend(\"qasm_simulator\")\n",
    "result = execute(qc, qasm_backed, shots=1000000).result() \n",
    "\n",
    "counts = result.get_counts()\n",
    "\n",
    "plot_histogram(counts)\n",
    "\n",
    "#Ou\n",
    "#counts = execute_circuit(qc, shots=1024)\n",
    "#plot_histogram(counts)"
   ]
  },
  {
   "cell_type": "markdown",
   "id": "6b6f5781",
   "metadata": {},
   "source": [
    "## 2. Quantum Parallelism <a id=\"superposition\"></a>\n",
    "\n",
    "Quantum parallelism is a fundamental feature of many quantum algorithms. Using the superposition principle shown above, we can essentially evaluate a function for many different values simultaneously, because quantum computing is linear, therefore, an operator $U$ acts on every branch of the superposition at the same time. Thus, in parallel. \n",
    "\n",
    "$$ U|\\psi\\rangle = U(\\alpha|0\\rangle + \\beta|1\\rangle) = \\alpha U |0\\rangle + \\beta U |1\\rangle $$"
   ]
  },
  {
   "cell_type": "markdown",
   "id": "28363818",
   "metadata": {},
   "source": [
    "##### <span style=\"color: red;\">Question:</span> - Where do we run into problems? \n",
    "\n",
    "Because we will need to measure our state at some time! And we will only extract a single classical state, not the result of the function applied to every different state."
   ]
  },
  {
   "cell_type": "markdown",
   "id": "89dc14f3",
   "metadata": {},
   "source": [
    "##### <span style=\"color: red;\">EXERCISE 2:</span> - Compute the AND function in parallel for every possible input"
   ]
  },
  {
   "cell_type": "code",
   "execution_count": 18,
   "id": "375bae84",
   "metadata": {},
   "outputs": [],
   "source": [
    "def toffoli_parallel(ctrl1=0, ctrl2=1, target=2, n_qubits=3):\n",
    "\n",
    "    qc = QuantumCircuit(n_qubits)\n",
    "\n",
    "    #n_qubits-1 controls\n",
    "    qc.h(range(n_qubits-1))\n",
    "    qc.ccx(ctrl1,ctrl2,target)\n",
    "\n",
    "    #measure the quantum circuit\n",
    "    qc.measure_all()\n",
    "    return qc"
   ]
  },
  {
   "cell_type": "code",
   "execution_count": 19,
   "id": "fd399ae2",
   "metadata": {},
   "outputs": [
    {
     "data": {
      "image/png": "[encoded data removed]",
      "text/plain": [
       "<Figure size 478.079x264.88 with 1 Axes>"
      ]
     },
     "execution_count": 19,
     "metadata": {},
     "output_type": "execute_result"
    }
   ],
   "source": [
    "qc = toffoli_parallel(n_qubits=3)\n",
    "qc.draw(output=\"mpl\")"
   ]
  },
  {
   "cell_type": "markdown",
   "metadata": {},
   "source": [
    "##### Execute the circuit and plot the histogram for counts"
   ]
  },
  {
   "cell_type": "code",
   "execution_count": 20,
   "id": "d8d9adf2",
   "metadata": {},
   "outputs": [
    {
     "data": {
      "image/png": "[encoded data removed]",
      "text/plain": [
       "<Figure size 504x360 with 1 Axes>"
      ]
     },
     "execution_count": 20,
     "metadata": {},
     "output_type": "execute_result"
    }
   ],
   "source": [
    "counts = execute(qc, shots=1024, backend=qasm_backed).result().get_counts()\n",
    "plot_histogram(counts)"
   ]
  },
  {
   "cell_type": "markdown",
   "id": "eae72d49",
   "metadata": {},
   "source": [
    "### Balanced vs constant boolean functions \n",
    "\n",
    "Let's consider Boolean function $f:\\{0,1\\} \\rightarrow \\{0,1\\}$ that can either be balanced or constant.\n",
    "\n",
    "- **Constant**: its output is always 0 or always 1\n",
    "- **Balanced**: outputs 0 for half of the input value and 1 for the other half\n",
    "\n",
    "##### <span style=\"color: red;\">Question:</span> - The Toffoli function is balanced or constant ? What about the XOR? "
   ]
  },
  {
   "cell_type": "markdown",
   "id": "aa361f48",
   "metadata": {},
   "source": [
    "##### <span style=\"color: red;\">Exercise 3:</span> - Implement a quantum circuit that performs the XOR function on every possible input in superposition \n",
    "Para verificar se a função é balanceada, basta visitar, pelo menos, metade dos elementos + 1."
   ]
  },
  {
   "cell_type": "markdown",
   "id": "d1c064d9",
   "metadata": {},
   "source": [
    "Truth table for the XOr logic gate\n",
    "|x_0|x_1|x_2|        \n",
    "|-|-|-|\n",
    "|0|0|0|\n",
    "|0|1|1|\n",
    "|1|0|1|\n",
    "|1|1|0|"
   ]
  },
  {
   "cell_type": "code",
   "execution_count": 21,
   "id": "583d84e9",
   "metadata": {},
   "outputs": [],
   "source": [
    "def xor_function(ctrl1 = 0, ctrl2=1, target=2, n_qubits=3):\n",
    "\n",
    "    qc = QuantumCircuit(n_qubits)\n",
    "\n",
    "    #state |10>\n",
    "    qc.x(ctrl1)\n",
    "    qc.ccx(ctrl1,ctrl2,target)\n",
    "    qc.x(ctrl1)\n",
    "\n",
    "    #state |01>\n",
    "    qc.x(ctrl2)\n",
    "    qc.ccx(ctrl1,ctrl2,target)\n",
    "    qc.x(ctrl2)\n",
    "\n",
    "    return qc"
   ]
  },
  {
   "cell_type": "code",
   "execution_count": 22,
   "id": "789c9520",
   "metadata": {},
   "outputs": [
    {
     "data": {
      "image/png": "[encoded data removed]",
      "text/plain": [
       "<Figure size 387.597x204.68 with 1 Axes>"
      ]
     },
     "execution_count": 22,
     "metadata": {},
     "output_type": "execute_result"
    }
   ],
   "source": [
    "xor = xor_function()\n",
    "xor.draw(output=\"mpl\")"
   ]
  },
  {
   "cell_type": "markdown",
   "id": "b453734d",
   "metadata": {},
   "source": [
    "Suppose a **classical** algorithm that finds if the function is actually balanced or constant. The algorithm has to run through all the four possible combinations. In average the algorithm has to run through half the combinations in order to discover if the function is balanced .\n",
    "\n",
    "In general, if we have $n$ bit string , we have to check $\\frac{2^n}{2} + 1$. \n",
    "\n",
    "The quantum algorithm from Deutsch promises to find if the function is balanced or constant in a single step! \n",
    "\n",
    "But how ? We have seen that simply acting in superposition does not solve the problem because we will need to run the quantum circuit several times do the stochastic nature! \n",
    "\n",
    "The novel trick of the algorithm is actually collapse the superposition into a deterministic state of interest using INTERFERENCE ! Not possible in classical computing !"
   ]
  },
  {
   "cell_type": "markdown",
   "id": "decent-platform",
   "metadata": {},
   "source": [
    "## 3. Deutsch's algorithm <a id='deutsch'></a>"
   ]
  },
  {
   "cell_type": "markdown",
   "id": "elder-priority",
   "metadata": {},
   "source": [
    "<p align=\"center\">\n",
    "  <img width=\"600\" height=\"200\" src=\"images/deutsch.png\">\n",
    "</p>\n",
    "\n",
    "$U_f$ is our function, usually seen as an oracle, or a black-box function that we want to find if it's balanced or constant"
   ]
  },
  {
   "cell_type": "markdown",
   "id": "115435d0",
   "metadata": {},
   "source": [
    "##### <span style=\"color: red;\">Exercise 4:</span> - Suppose that the black-box function is actually the CNOT function. Implement the full deutsch circuit. "
   ]
  },
  {
   "cell_type": "code",
   "execution_count": 23,
   "id": "heated-there",
   "metadata": {},
   "outputs": [],
   "source": [
    "def U_f(n_qubits=2):\n",
    "\n",
    "    qc = QuantumCircuit(n_qubits)\n",
    "    #apply CNOT function\n",
    "    # CNOT é uma função balenceada\n",
    "    qc.cx(0,1)\n",
    "    \n",
    "    return qc\n",
    "\n",
    "def deutsch(U_f=None, n_qubits=2):\n",
    "\n",
    "    cr = ClassicalRegister(1)\n",
    "    qr = QuantumRegister(n_qubits)\n",
    "    qc = QuantumCircuit(qr,cr)\n",
    "\n",
    "    # first qubit\n",
    "    qc.h(qr[0])\n",
    "\n",
    "    #second qubit\n",
    "    qc.x(qr[1])\n",
    "    qc.h(qr[1])\n",
    "\n",
    "    #compose circuit with U_f\n",
    "    qc = qc.compose(U_f)\n",
    "\n",
    "    #interference first qubit\n",
    "    qc.h(qr[0])\n",
    "    #measure the first qubit \n",
    "    qc.measure(qr[0],cr[0])\n",
    "\n",
    "    return qc"
   ]
  },
  {
   "cell_type": "markdown",
   "id": "7a9a951b",
   "metadata": {},
   "source": [
    "Create the deutsch circuit"
   ]
  },
  {
   "cell_type": "code",
   "execution_count": 24,
   "id": "d44cf4e5",
   "metadata": {},
   "outputs": [
    {
     "data": {
      "image/png": "[encoded data removed]",
      "text/plain": [
       "<Figure size 413.704x204.68 with 1 Axes>"
      ]
     },
     "execution_count": 24,
     "metadata": {},
     "output_type": "execute_result"
    }
   ],
   "source": [
    "u_f = U_f()\n",
    "qc = deutsch(U_f=u_f)\n",
    "qc.draw(output=\"mpl\")"
   ]
  },
  {
   "cell_type": "markdown",
   "id": "9208bb68",
   "metadata": {},
   "source": [
    "Execute the circuit and see the result"
   ]
  },
  {
   "cell_type": "code",
   "execution_count": 25,
   "id": "b4a1b5be",
   "metadata": {},
   "outputs": [
    {
     "data": {
      "image/png": "[encoded data removed]",
      "text/plain": [
       "<Figure size 504x360 with 1 Axes>"
      ]
     },
     "execution_count": 25,
     "metadata": {},
     "output_type": "execute_result"
    }
   ],
   "source": [
    "qasm_backed = Aer.get_backend(\"qasm_simulator\")\n",
    "result = execute(qc, qasm_backed, shots=1024).result()\n",
    "\n",
    "counts = result.get_counts()\n",
    "plot_histogram(counts)"
   ]
  },
  {
   "cell_type": "markdown",
   "id": "fac95a3c",
   "metadata": {},
   "source": [
    "What happens if we have the identity as $U_f$? Now, we have a constant function. Test and see what is the result. \n",
    "\n",
    "Do you noticed what happened? If we have a **constant** function we measure the state $|0\\rangle$ with certainty and if we have balanced function we measure the state $|1\\rangle$ with probability 1!! \n",
    "\n",
    "##### why ? Let's go step by step\n"
   ]
  },
  {
   "cell_type": "markdown",
   "id": "77432988",
   "metadata": {},
   "source": [
    "1) Initial state - $|00\\rangle$\n",
    "2) Create uniform superposition in the first qubit ------> $(H \\otimes I) |00\\rangle $\n",
    "    $$ \\frac{1}{\\sqrt{2}}( |0\\rangle + |1\\rangle ) |0\\rangle = \\frac{1}{\\sqrt{2}}( |00\\rangle + |10\\rangle)$$\n",
    "3) Apply $x$ gate to the second qubit - $(I \\otimes X) \\frac{1}{\\sqrt{2}}( |00\\rangle + |10\\rangle)$\n",
    "   $$ \\frac{1}{\\sqrt{2}}( |01\\rangle + |11\\rangle) $$\n",
    "4) Create uniform superposition in the second qubit (attention to the signs !) ----->  $(I \\otimes H) \\frac{1}{\\sqrt{2}}( |01\\rangle + |11\\rangle) $\n",
    "   \n",
    "$$H = \n",
    "\\frac{1}{\\sqrt{2}}\\begin{pmatrix}\n",
    "1 & 1\\\\\n",
    "1 & -1\n",
    "\\end{pmatrix}\n",
    "$$\n",
    "\n",
    "$$ \\frac{1}{\\sqrt{2}}( |0\\rangle \\frac{1}{\\sqrt{2}}( |0\\rangle - |1\\rangle ) + |1\\rangle \\frac{1}{\\sqrt{2}}( |0\\rangle - |1\\rangle )) = \\frac{1}{2}(|00\\rangle - |01\\rangle + |10\\rangle - |11\\rangle)$$\n",
    "\n",
    "5) Apply $U_f = I$ - $I(\\frac{1}{2}(|00\\rangle - |01\\rangle + |10\\rangle - |11\\rangle))$\n",
    "\n",
    "    $$ \\frac{1}{2}(|00\\rangle - |01\\rangle + |10\\rangle - |11\\rangle))$$\n",
    "\n",
    "6) Apply hadamard to the first qubit ----> $(H \\otimes I) \\frac{1}{2}(|00\\rangle - |01\\rangle + |10\\rangle - |11\\rangle))$\n",
    "\n",
    "    $$\\frac{1}{2}\\left[\\frac{1}{\\sqrt{2}}( |0\\rangle + |1\\rangle ) |0\\rangle - \\frac{1}{\\sqrt{2}}( |0\\rangle + |1\\rangle ) |1\\rangle + \\frac{1}{\\sqrt{2}}( |0\\rangle - |1\\rangle ) |0\\rangle - \\frac{1}{\\sqrt{2}}( |0\\rangle - |1\\rangle ) |1\\rangle \\right] $$\n",
    "\n",
    "    $$\\frac{1}{2\\sqrt{2}}\\left[|00\\rangle + |10\\rangle - |01\\rangle -|11\\rangle +|00\\rangle -|10\\rangle - |01\\rangle + |11\\rangle \\right] $$\n",
    "\n",
    "    $$\\frac{1}{2\\sqrt{2}} \\left[2|00\\rangle - 2|01\\rangle \\right]$$\n",
    "\n",
    "Thus, we can see that by applying the hadamard in the first qubit after the function , we created interference, leaving only states with first qubit=0. We have a constant function. \n",
    "\n",
    "If we repeat the process for CNOT function instead, we will be measuring state $|1\\rangle$ in the first qubit instead. \n"
   ]
  },
  {
   "cell_type": "markdown",
   "id": "b2096c6b",
   "metadata": {},
   "source": [
    "## 4. Deutsch-Jozsa algorithm <a id='deutsch-josza'></a>"
   ]
  },
  {
   "cell_type": "markdown",
   "id": "8528e49a",
   "metadata": {},
   "source": [
    "Deutsch-Josza algorithm is the generalization of the previous algorithm for boolean functions for $n$ bit strings rather than single bit string inputs.\n",
    "\n",
    "<p align=\"center\">\n",
    "  <img width=\"700\" height=\"200\" src=\"images/dj.png\">\n",
    "</p>\n",
    "\n",
    "The mechanics is essentially the same here, the only differences are:\n",
    "\n",
    "* Hadamard uniform superposition over all qubits instead of a single qubit\n",
    "* We will measure all input qubits instead of the single qubit\n",
    "* $P(000 \\dots 0)=0$ if the function is constant and $P(111 \\dots 1)=1$ if the function is balanced\n"
   ]
  },
  {
   "cell_type": "markdown",
   "id": "d1019120",
   "metadata": {},
   "source": [
    "##### <span style=\"color: red;\">Exercise 5:</span> - Suppose that the black-box function is the XOR function. Implement the full deutsch-josza algorithm. "
   ]
  }
 ],
 "metadata": {
  "interpreter": {
   "hash": "9ac9e5c68b31cfcc99a53123f06d7df54c0ede217bd3372a890ba586dad7fa74"
  },
  "kernelspec": {
   "display_name": "Python 3.9.12 ('ic')",
   "language": "python",
   "name": "python3"
  },
  "language_info": {
   "codemirror_mode": {
    "name": "ipython",
    "version": 3
   },
   "file_extension": ".py",
   "mimetype": "text/x-python",
   "name": "python",
   "nbconvert_exporter": "python",
   "pygments_lexer": "ipython3",
   "version": "3.9.12"
  }
 },
 "nbformat": 4,
 "nbformat_minor": 5
}
